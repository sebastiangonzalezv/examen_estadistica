{
 "cells": [
  {
   "cell_type": "code",
   "execution_count": 1,
   "metadata": {},
   "outputs": [],
   "source": [
    "import numpy as np\n",
    "from scipy import stats\n",
    "import matplotlib.pyplot as plt"
   ]
  },
  {
   "cell_type": "markdown",
   "metadata": {},
   "source": [
    "# Measures of Central Tendency\n",
    "A measure of central tendency is a value that represents a typical, or central, entry of a data set. The three most commonly used measures of central tendency are the mean, the median, and the mode."
   ]
  },
  {
   "cell_type": "markdown",
   "metadata": {},
   "source": [
    "## Mean ($\\mu$ or $\\bar{x}$)\n",
    "The mean of a data set is the sum of the data entries divided by the number of entries.\n",
    "\n",
    "$ \\mu = \\frac{\\sum_{i=1}^{N} x_i}{N}$<br>\n",
    "$ \\bar{x} = \\frac{\\sum_{i=1}^{n} x_i}{n}$ <br>\n",
    "### Example\n",
    "the following are the ages of all seven employees of a small company:<br>\n",
    "53 42 60 57 51 44 57<br>\n",
    "$ \\mu = \\frac{\\sum_{i=1}^{N} x_i}{N} = \\frac{364}{7} = 52$ "
   ]
  },
  {
   "cell_type": "code",
   "execution_count": 2,
   "metadata": {},
   "outputs": [
    {
     "name": "stdout",
     "output_type": "stream",
     "text": [
      "52.0\n",
      "52.0\n"
     ]
    }
   ],
   "source": [
    "ages = np.array([53, 42, 60, 57, 51, 44, 57])\n",
    "# by definition\n",
    "print(ages.sum()/len(ages))\n",
    "# by numpy method\n",
    "print(ages.mean())"
   ]
  },
  {
   "cell_type": "markdown",
   "metadata": {},
   "source": [
    "## Median ($\\tilde{\\mu}$ or  $\\tilde{x}$)\n",
    "The median of a data set is the value that lies in the middle of the data when the data set is ordered.\n",
    "### Example\n",
    "calculate the median age of the seven employees.<br>\n",
    "53 42 60 57 51 44 57<br>\n",
    "42 44 51 <font color=red>53</font> 57 57 60"
   ]
  },
  {
   "cell_type": "code",
   "execution_count": 3,
   "metadata": {},
   "outputs": [
    {
     "name": "stdout",
     "output_type": "stream",
     "text": [
      "[42 44 51 53 57 57 60]\n",
      "53\n",
      "53.0\n"
     ]
    }
   ],
   "source": [
    "# by definition\n",
    "sorted_ages = np.sort(ages)\n",
    "print(sorted_ages)\n",
    "if len(sorted_ages) % 2 == 1:\n",
    "    median = sorted_ages[(len(sorted_ages)//2)]\n",
    "else:\n",
    "    median = (sorted_ages[(len(sorted_ages)//2)] + sorted_ages[(len(sorted_ages)//2) + 1])/2\n",
    "print(median)\n",
    "# by numpy method\n",
    "print(np.median(ages))"
   ]
  },
  {
   "cell_type": "markdown",
   "metadata": {},
   "source": [
    "## Mode\n",
    "The mode of a data set is the data entry or category that occurs with the greatest frequency. If no entry is repeated, the data set has no mode. If two entries occur with the same greatest frequency, each entry is a mode and the data set is called bimodal.\n",
    "### Example\n",
    "53 42 60 <font color=red>57</font> 51 44 <font color=red>57</font>\n",
    "\n",
    "One thing which should be noted is that there is no in-built function for finding mode using any numpy function. For this, we will use scipy library. First we will create numpy array and then we’ll execute the scipy function over the array."
   ]
  },
  {
   "cell_type": "code",
   "execution_count": 4,
   "metadata": {},
   "outputs": [
    {
     "data": {
      "text/plain": [
       "ModeResult(mode=array([57]), count=array([2]))"
      ]
     },
     "execution_count": 4,
     "metadata": {},
     "output_type": "execute_result"
    }
   ],
   "source": [
    "stats.mode(ages)"
   ]
  },
  {
   "cell_type": "markdown",
   "metadata": {},
   "source": [
    "### Example\n",
    "A 29 year old employee joins the company and the ages of the employees are now<br>\n",
    "53 42 60 57 51 44 57 <font color=red>23</font><br>\n",
    "* Recalculate the mean, the median, and the mode.<br>\n",
    "* Which measure of central tendency was affected when this new age was added?<br>"
   ]
  },
  {
   "cell_type": "code",
   "execution_count": 5,
   "metadata": {},
   "outputs": [
    {
     "name": "stdout",
     "output_type": "stream",
     "text": [
      "Mean = 48.375\n",
      "Median = 52.0\n",
      "Mode = 57\n"
     ]
    }
   ],
   "source": [
    "ages = np.array([53, 42, 60, 57, 51, 44, 57, 23])\n",
    "print(\"Mean = {}\\nMedian = {}\\nMode = {}\".format(ages.mean(), np.median(ages), stats.mode(ages)[0][0]))"
   ]
  },
  {
   "cell_type": "markdown",
   "metadata": {},
   "source": [
    "The mean takes every value into account, but is affected by the outlier.<br>\n",
    "The median and mode are not very influenced by extreme values.<br><br>\n",
    "## weighted mean\n",
    "is the mean of a data set whose entries have varying weights. A weighted mean is given by\n",
    "$\\tilde{x} = \\frac{\\sum x*w}{\\sum w}$\n",
    "### Example\n",
    "grades in a statistics class are weighted as follows. Tests are worth 50% of the grade, homework is worth 30% of the grade and the final is worth 20% of the grade. A student receives a total of 80 points on tests, 100 points on homework, and 85 points on his final. What is his current grade?"
   ]
  },
  {
   "cell_type": "code",
   "execution_count": 6,
   "metadata": {},
   "outputs": [
    {
     "name": "stdout",
     "output_type": "stream",
     "text": [
      "The student’s current grade is 87.0\n"
     ]
    }
   ],
   "source": [
    "notes = np.array([80, 100, 85])\n",
    "worth = np.array([0.5, 0.3, 0.2])\n",
    "final_grade = np.average(notes, weights=worth)\n",
    "print('The student’s current grade is {}'.format(final_grade))"
   ]
  },
  {
   "cell_type": "markdown",
   "metadata": {},
   "source": [
    "| Provides | Nominal | Ordinal | Interval | Rario |\n",
    "| --- | --- | --- | --- | --- |\n",
    "| The \"order\" of values known |  | x | x | x |\n",
    "| \"Counts\" aka \"Frequency of Distributtion\" | x | x | x | x |\n",
    "| Mode | x | x | x | x |\n",
    "| Median |   | x | x | x |\n",
    "| Mean |   |   | x | x |\n",
    "| Can quantify the difference between value |   |   | x | x |\n",
    "| Can add or subtract values |   |   | x | x |\n",
    "| Can multiple and divide values |   |   |   | x |\n",
    "| Has \"true zero\" |   |   |   | x |\n",
    "\n",
    "## Range\n",
    "is the difference between the maximum and minimum date entries in the set.<br>\n",
    "Range = (Maximum data entry) –(Minimum data entry)<br>\n",
    "\n",
    "\n",
    "<table style=\"width:70%\">\n",
    "  <tr>\n",
    "    <th>Measures</th>\n",
    "    <th>Population</th>\n",
    "    <th>Sample</th>\n",
    "  </tr>    \n",
    "  <tr>\n",
    "    <td>Mean</td>\n",
    "    <td>$ \\mu = \\frac{\\sum_{i=1}^{N} x_i}{N}$</td>\n",
    "    <td>$ \\bar{x} = \\frac{\\sum_{i=1}^{n} x_i}{n}$</td>\n",
    "  </tr>\n",
    "  <tr>\n",
    "    <td>variance</td>\n",
    "    <td>$ \\sigma^2 = \\frac{\\sum_{i=1}^{N}(x_i- \\mu)^2}{N}$</td>\n",
    "    <td>$ s^2 = \\frac{\\sum_{i=1}^{n} (x_i - \\bar{x})^2}{n-1}$</td>\n",
    "  </tr>\n",
    "  <tr>\n",
    "    <td>standard deviation</td>\n",
    "    <td>$ \\sigma = \\sqrt{\\frac{\\sum_{i=1}^{N}(x_i- \\mu)^2}{N}}$</td>\n",
    "    <td>$ s = \\sqrt{\\frac{\\sum_{i=1}^{n} (x_i - \\bar{x})^2}{n-1}}$</td>\n",
    "  </tr>\n",
    " </table> \n",
    " \n",
    "### Example\n",
    "A statistic class with five students took a test with these test scores: 92, 95, 83, 76, 54. Find the population variance and standard deviation for this class."
   ]
  },
  {
   "cell_type": "code",
   "execution_count": 7,
   "metadata": {},
   "outputs": [
    {
     "name": "stdout",
     "output_type": "stream",
     "text": [
      "the population variance is: 214.0 \n",
      "the standard deviation is: 14.628738838327793\n"
     ]
    }
   ],
   "source": [
    "scores = np.array([92, 95, 83, 76, 54])\n",
    "scores_population_variance = np.var(scores, ddof=0)\n",
    "scores_population_standard_deviation = np.std(scores, ddof=0)\n",
    "print(\"the population variance is: {} \\nthe standard deviation is: {}\".format(\n",
    "    scores_population_variance, scores_population_standard_deviation))"
   ]
  },
  {
   "cell_type": "markdown",
   "metadata": {},
   "source": [
    "## Coefficient of variation\n",
    "* Measures relative variation\n",
    "* Always in percentage (%)\n",
    "* Shows variation relative to mean\n",
    "* Is used to compare two or more sets of data measured in different units\n",
    "\n",
    "$ CV = \\frac{s}{\\bar{x}}$\n",
    "\n",
    "# Order Statistics\n",
    "* quartiles: Q1, Q2 and Q3,approximately divide an ordered data set into four equal parts\n",
    "* Deciles: approximately divide an ordered data set into 10 parts. There are 9 deciles: D1,D2,...,D9.\n",
    "* Percentiles: approximately divide anordered data set into 100 parts. There are 99 percentiles :P1,P2,P3...P99. \n",
    "* Quartiles,deciles and percentiles are useful if one have alarge number of observations.\n",
    "\n",
    "### Example\n",
    "The quiz scores for 15 students is listed below. Find the first, second and third quartiles of the scores.<br>\n",
    "28   43   48   51   43   30   55   44   48   33   45   37   37   42   38\n"
   ]
  },
  {
   "cell_type": "code",
   "execution_count": 8,
   "metadata": {},
   "outputs": [
    {
     "name": "stdout",
     "output_type": "stream",
     "text": [
      "For Q1 we have: 37\n",
      "For Q2 we have: 43\n",
      "For Q3 we have: 48\n"
     ]
    }
   ],
   "source": [
    "quiz = np.array([28, 43, 48, 51, 43, 30, 55, 44, 48, 33, 45, 37, 37, 42, 38])\n",
    "q_1 = np.quantile(quiz, 0.25, interpolation='higher')\n",
    "q_2 = np.quantile(quiz, 0.5, interpolation='higher')\n",
    "q_3 = np.quantile(quiz, 0.75, interpolation='higher')\n",
    "print(\"For Q1 we have: {}\\nFor Q2 we have: {}\\nFor Q3 we have: {}\".format(q_1, q_2, q_3))"
   ]
  },
  {
   "cell_type": "markdown",
   "metadata": {},
   "source": [
    "## Interquartile Range (IQR)\n",
    "is the difference between the third and first quartiles.\n",
    "## Boxplot\n",
    "is an exploratory data analysis tool that highlights the important features of a data set.\n",
    "The five-number summaryis used to draw the graph.\n",
    "* The minimum entry\n",
    "* Q1\n",
    "* Q2(median)\n",
    "* Q3\n",
    "* The maximum entry\n",
    "\n",
    "Boxplots let us to evaluate:\n",
    "* Variability\n",
    "* Outliers\n",
    "* Symmetry\n",
    "* Comparison of subpopulations"
   ]
  },
  {
   "cell_type": "code",
   "execution_count": 9,
   "metadata": {},
   "outputs": [
    {
     "name": "stdout",
     "output_type": "stream",
     "text": [
      "\n",
      "min:\t\t28\n",
      "Q1\t\t37\n",
      "Q2\t\t43\n",
      "Q3\t\t48\n",
      "max\t\t55\n",
      "IQR\t\t11\n",
      "Max. length\t16.5\n"
     ]
    },
    {
     "data": {
      "image/png": "[encoded data removed]",
      "text/plain": [
       "<Figure size 432x288 with 1 Axes>"
      ]
     },
     "metadata": {
      "needs_background": "light"
     },
     "output_type": "display_data"
    }
   ],
   "source": [
    "summary_text = \"\"\"\n",
    "min:\\t\\t{}\\nQ1\\t\\t{}\\nQ2\\t\\t{}\\nQ3\\t\\t{}\\nmax\\t\\t{}\\nIQR\\t\\t{}\\nMax. length\\t{}\"\"\".format(\n",
    "    quiz.min(), q_1, q_2, q_3, quiz.max(),q_3-q_1, 1.5*(q_3-q_1))\n",
    "print(summary_text)\n",
    "plt.boxplot(quiz, vert=False, whis = 1.5)\n",
    "plt.show()"
   ]
  },
  {
   "cell_type": "code",
   "execution_count": null,
   "metadata": {},
   "outputs": [],
   "source": []
  }
 ],
 "metadata": {
  "kernelspec": {
   "display_name": "Python 3",
   "language": "python",
   "name": "python3"
  },
  "language_info": {
   "codemirror_mode": {
    "name": "ipython",
    "version": 3
   },
   "file_extension": ".py",
   "mimetype": "text/x-python",
   "name": "python",
   "nbconvert_exporter": "python",
   "pygments_lexer": "ipython3",
   "version": "3.7.7"
  }
 },
 "nbformat": 4,
 "nbformat_minor": 4
}
