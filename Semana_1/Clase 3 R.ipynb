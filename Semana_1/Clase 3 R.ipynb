{
 "cells": [
  {
   "cell_type": "markdown",
   "metadata": {},
   "source": [
    "# Measures of Central Tendency\n",
    "A measure of central tendency is a value that represents a typical, or central, entry of a data set. The three most commonly used measures of central tendency are the mean, the median, and the mode."
   ]
  },
  {
   "cell_type": "markdown",
   "metadata": {},
   "source": [
    "## Mean ($\\mu$ or $\\bar{x}$)\n",
    "The mean of a data set is the sum of the data entries divided by the number of entries.\n",
    "\n",
    "$ \\mu = \\frac{\\sum_{i=1}^{N} x_i}{N}$<br>\n",
    "$ \\bar{x} = \\frac{\\sum_{i=1}^{n} x_i}{n}$ <br>\n",
    "### Example\n",
    "the following are the ages of all seven employees of a small company:<br>\n",
    "53 42 60 57 51 44 57<br>\n",
    "$ \\mu = \\frac{\\sum_{i=1}^{N} x_i}{N} = \\frac{364}{7} = 52$ "
   ]
  },
  {
   "cell_type": "code",
   "execution_count": 1,
   "metadata": {},
   "outputs": [
    {
     "name": "stdout",
     "output_type": "stream",
     "text": [
      "[1] 52\n",
      "[1] 52\n"
     ]
    }
   ],
   "source": [
    "ages = c(53, 42, 60, 57, 51, 44, 57)\n",
    "# by definition\n",
    "print(sum(ages)/ length(ages))\n",
    "# by  method\n",
    "print(mean(ages))"
   ]
  },
  {
   "cell_type": "markdown",
   "metadata": {},
   "source": [
    "## Median ($\\tilde{\\mu}$ or  $\\tilde{x}$)\n",
    "The median of a data set is the value that lies in the middle of the data when the data set is ordered.\n",
    "### Example\n",
    "calculate the median age of the seven employees.<br>\n",
    "53 42 60 57 51 44 57<br>\n",
    "42 44 51 <font color=red>53</font> 57 57 60"
   ]
  },
  {
   "cell_type": "code",
   "execution_count": 2,
   "metadata": {},
   "outputs": [
    {
     "name": "stdout",
     "output_type": "stream",
     "text": [
      "[1] 42 44 51 53 57 57 60\n",
      "[1] 53\n",
      "[1] 53\n"
     ]
    }
   ],
   "source": [
    "sorted_ages = sort(ages)\n",
    "print(sorted_ages)\n",
    "if (length(sorted_ages) %% 2 == 1) {\n",
    "median = sorted_ages[length(sorted_ages)%/%2 + 1]\n",
    "} else {\n",
    "median = (sorted_ages[length(sorted_ages) %/% 2 + 1] + sorted_ages[length(sorted_ages) %/% 2 + 2])/2\n",
    "}\n",
    "print(median)\n",
    "print(median(ages))"
   ]
  },
  {
   "cell_type": "markdown",
   "metadata": {},
   "source": [
    "## Mode\n",
    "The mode of a data set is the data entry or category that occurs with the greatest frequency. If no entry is repeated, the data set has no mode. If two entries occur with the same greatest frequency, each entry is a mode and the data set is called bimodal.\n",
    "### Example\n",
    "53 42 60 <font color=red>57</font> 51 44 <font color=red>57</font>\n",
    "\n",
    "One thing which should be noted is that there is no in-built function for finding mode using any R so we made a function"
   ]
  },
  {
   "cell_type": "code",
   "execution_count": 3,
   "metadata": {},
   "outputs": [
    {
     "data": {
      "text/html": [
       "<style>\n",
       ".list-inline {list-style: none; margin:0; padding: 0}\n",
       ".list-inline>li {display: inline-block}\n",
       ".list-inline>li:not(:last-child)::after {content: \"\\00b7\"; padding: 0 .5ex}\n",
       "</style>\n",
       "<ol class=list-inline><li>53</li><li>42</li><li>60</li><li>57</li><li>51</li><li>44</li><li>57</li></ol>\n"
      ],
      "text/latex": [
       "\\begin{enumerate*}\n",
       "\\item 53\n",
       "\\item 42\n",
       "\\item 60\n",
       "\\item 57\n",
       "\\item 51\n",
       "\\item 44\n",
       "\\item 57\n",
       "\\end{enumerate*}\n"
      ],
      "text/markdown": [
       "1. 53\n",
       "2. 42\n",
       "3. 60\n",
       "4. 57\n",
       "5. 51\n",
       "6. 44\n",
       "7. 57\n",
       "\n",
       "\n"
      ],
      "text/plain": [
       "[1] 53 42 60 57 51 44 57"
      ]
     },
     "metadata": {},
     "output_type": "display_data"
    },
    {
     "name": "stdout",
     "output_type": "stream",
     "text": [
      "[1] 57\n"
     ]
    }
   ],
   "source": [
    "getmode = function(v) {\n",
    "uniqv = unique(v)\n",
    "uniqv[which.max(tabulate(match(v, uniqv)))]\n",
    "}\n",
    "ages\n",
    "print(getmode(ages))"
   ]
  },
  {
   "cell_type": "markdown",
   "metadata": {},
   "source": [
    "The mean takes every value into account, but is affected by the outlier.<br>\n",
    "The median and mode are not very influenced by extreme values.<br><br>\n",
    "## weighted mean\n",
    "is the mean of a data set whose entries have varying weights. A weighted mean is given by\n",
    "$\\tilde{x} = \\frac{\\sum x*w}{\\sum w}$\n",
    "### Example\n",
    "grades in a statistics class are weighted as follows. Tests are worth 50% of the grade, homework is worth 30% of the grade and the final is worth 20% of the grade. A student receives a total of 80 points on tests, 100 points on homework, and 85 points on his final. What is his current grade?"
   ]
  },
  {
   "cell_type": "code",
   "execution_count": 4,
   "metadata": {},
   "outputs": [
    {
     "data": {
      "text/html": [
       "'The student’s current grade is 87'"
      ],
      "text/latex": [
       "'The student’s current grade is 87'"
      ],
      "text/markdown": [
       "'The student’s current grade is 87'"
      ],
      "text/plain": [
       "[1] \"The student’s current grade is 87\""
      ]
     },
     "metadata": {},
     "output_type": "display_data"
    }
   ],
   "source": [
    "notes = c(80, 100, 85)\n",
    "worth = c(0.5, 0.3, 0.2)\n",
    "weight_mean = weighted.mean(notes, worth)\n",
    "sprintf(\"The student’s current grade is %s\", weight_mean)"
   ]
  },
  {
   "cell_type": "markdown",
   "metadata": {},
   "source": [
    "| Provides | Nominal | Ordinal | Interval | Rario |\n",
    "| --- | --- | --- | --- | --- |\n",
    "| The \"order\" of values known |  | x | x | x |\n",
    "| \"Counts\" aka \"Frequency of Distributtion\" | x | x | x | x |\n",
    "| Mode | x | x | x | x |\n",
    "| Median |   | x | x | x |\n",
    "| Mean |   |   | x | x |\n",
    "| Can quantify the difference between value |   |   | x | x |\n",
    "| Can add or subtract values |   |   | x | x |\n",
    "| Can multiple and divide values |   |   |   | x |\n",
    "| Has \"true zero\" |   |   |   | x |\n",
    "\n",
    "## Range\n",
    "is the difference between the maximum and minimum date entries in the set.<br>\n",
    "Range = (Maximum data entry) –(Minimum data entry)<br>\n",
    "\n",
    "\n",
    "<table style=\"width:70%\">\n",
    "  <tr>\n",
    "    <th>Measures</th>\n",
    "    <th>Population</th>\n",
    "    <th>Sample</th>\n",
    "  </tr>    \n",
    "  <tr>\n",
    "    <td>Mean</td>\n",
    "    <td>$ \\mu = \\frac{\\sum_{i=1}^{N} x_i}{N}$</td>\n",
    "    <td>$ \\bar{x} = \\frac{\\sum_{i=1}^{n} x_i}{n}$</td>\n",
    "  </tr>\n",
    "  <tr>\n",
    "    <td>variance</td>\n",
    "    <td>$ \\sigma^2 = \\frac{\\sum_{i=1}^{N}(x_i- \\mu)^2}{N}$</td>\n",
    "    <td>$ s^2 = \\frac{\\sum_{i=1}^{n} (x_i - \\bar{x})^2}{n-1}$</td>\n",
    "  </tr>\n",
    "  <tr>\n",
    "    <td>standard deviation</td>\n",
    "    <td>$ \\sigma = \\sqrt{\\frac{\\sum_{i=1}^{N}(x_i- \\mu)^2}{N}}$</td>\n",
    "    <td>$ s = \\sqrt{\\frac{\\sum_{i=1}^{n} (x_i - \\bar{x})^2}{n-1}}$</td>\n",
    "  </tr>\n",
    " </table> \n",
    " \n",
    "### Example\n",
    "A statistic class with five students took a test with these test scores: 92, 95, 83, 76, 54. Find the population variance and standard deviation for this class."
   ]
  },
  {
   "cell_type": "code",
   "execution_count": 1,
   "metadata": {},
   "outputs": [
    {
     "data": {
      "text/html": [
       "'the population variance is: 214'"
      ],
      "text/latex": [
       "'the population variance is: 214'"
      ],
      "text/markdown": [
       "'the population variance is: 214'"
      ],
      "text/plain": [
       "[1] \"the population variance is: 214\""
      ]
     },
     "metadata": {},
     "output_type": "display_data"
    },
    {
     "data": {
      "text/html": [
       "'the standard deviation is: 14.6287388383278'"
      ],
      "text/latex": [
       "'the standard deviation is: 14.6287388383278'"
      ],
      "text/markdown": [
       "'the standard deviation is: 14.6287388383278'"
      ],
      "text/plain": [
       "[1] \"the standard deviation is: 14.6287388383278\""
      ]
     },
     "metadata": {},
     "output_type": "display_data"
    }
   ],
   "source": [
    "get_population_var = function(v) {\n",
    "var(v) * (length(v)-1)/ length(v)\n",
    "}\n",
    "get_population_sd = function(v) {\n",
    "sqrt(get_population_var(v))\n",
    "}\n",
    "scores = c(92, 95, 83, 76, 54)\n",
    "scores_population_variance = get_population_var(scores)\n",
    "scores_population_standard_deviation = get_population_sd(scores)\n",
    "sprintf(\"the population variance is: %s\", scores_population_variance )\n",
    "sprintf(\"the standard deviation is: %s\", scores_population_standard_deviation)"
   ]
  },
  {
   "cell_type": "markdown",
   "metadata": {},
   "source": [
    "## Coefficient of variation\n",
    "* Measures relative variation\n",
    "* Always in percentage (%)\n",
    "* Shows variation relative to mean\n",
    "* Is used to compare two or more sets of data measured in different units\n",
    "\n",
    "$ CV = \\frac{s}{\\bar{x}}$\n",
    "\n",
    "# Order Statistics\n",
    "* quartiles: Q1, Q2 and Q3,approximately divide an ordered data set into four equal parts\n",
    "* Deciles: approximately divide an ordered data set into 10 parts. There are 9 deciles: D1,D2,...,D9.\n",
    "* Percentiles: approximately divide anordered data set into 100 parts. There are 99 percentiles :P1,P2,P3...P99. \n",
    "* Quartiles,deciles and percentiles are useful if one have alarge number of observations.\n",
    "\n",
    "### Example\n",
    "The quiz scores for 15 students is listed below. Find the first, second and third quartiles of the scores.<br>\n",
    "28   43   48   51   43   30   55   44   48   33   45   37   37   42   38"
   ]
  },
  {
   "cell_type": "code",
   "execution_count": 6,
   "metadata": {},
   "outputs": [
    {
     "data": {
      "text/html": [
       "'For Q1 we have: 37'"
      ],
      "text/latex": [
       "'For Q1 we have: 37'"
      ],
      "text/markdown": [
       "'For Q1 we have: 37'"
      ],
      "text/plain": [
       "[1] \"For Q1 we have: 37\""
      ]
     },
     "metadata": {},
     "output_type": "display_data"
    },
    {
     "data": {
      "text/html": [
       "'For Q2 we have: 43'"
      ],
      "text/latex": [
       "'For Q2 we have: 43'"
      ],
      "text/markdown": [
       "'For Q2 we have: 43'"
      ],
      "text/plain": [
       "[1] \"For Q2 we have: 43\""
      ]
     },
     "metadata": {},
     "output_type": "display_data"
    },
    {
     "data": {
      "text/html": [
       "'For Q3 we have: 46.5'"
      ],
      "text/latex": [
       "'For Q3 we have: 46.5'"
      ],
      "text/markdown": [
       "'For Q3 we have: 46.5'"
      ],
      "text/plain": [
       "[1] \"For Q3 we have: 46.5\""
      ]
     },
     "metadata": {},
     "output_type": "display_data"
    }
   ],
   "source": [
    "quiz = c(28, 43, 48, 51, 43, 30, 55, 44, 48, 33, 45, 37, 37, 42, 38)\n",
    "q_1 = quantile(quiz, 0.25)\n",
    "q_2 = quantile(quiz, 0.50)\n",
    "q_3 = quantile(quiz, 0.75)\n",
    "sprintf(\"For Q1 we have: %s\",q_1)\n",
    "sprintf(\"For Q2 we have: %s\",q_2)\n",
    "sprintf(\"For Q3 we have: %s\",q_3)"
   ]
  },
  {
   "cell_type": "markdown",
   "metadata": {},
   "source": [
    "## Interquartile Range (IQR)\n",
    "is the difference between the third and first quartiles.\n",
    "## Boxplot\n",
    "is an exploratory data analysis tool that highlights the important features of a data set.\n",
    "The five-number summaryis used to draw the graph.\n",
    "* The minimum entry\n",
    "* Q1\n",
    "* Q2(median)\n",
    "* Q3\n",
    "* The maximum entry\n",
    "\n",
    "Boxplots let us to evaluate:\n",
    "* Variability\n",
    "* Outliers\n",
    "* Symmetry\n",
    "* Comparison of subpopulations"
   ]
  },
  {
   "cell_type": "code",
   "execution_count": 9,
   "metadata": {},
   "outputs": [
    {
     "data": {
      "text/plain": [
       "   Min. 1st Qu.  Median    Mean 3rd Qu.    Max. \n",
       "  28.00   37.00   43.00   41.47   46.50   55.00 "
      ]
     },
     "metadata": {},
     "output_type": "display_data"
    },
    {
     "data": {
      "image/png": "[encoded data removed]",
      "text/plain": [
       "plot without title"
      ]
     },
     "metadata": {
      "image/png": {
       "height": 420,
       "width": 420
      },
      "text/plain": {
       "height": 420,
       "width": 420
      }
     },
     "output_type": "display_data"
    }
   ],
   "source": [
    "summary(quiz)\n",
    "boxplot(quiz, horizontal=TRUE)"
   ]
  },
  {
   "cell_type": "code",
   "execution_count": 8,
   "metadata": {},
   "outputs": [],
   "source": []
  },
  {
   "cell_type": "code",
   "execution_count": null,
   "metadata": {},
   "outputs": [],
   "source": []
  }
 ],
 "metadata": {
  "kernelspec": {
   "display_name": "R",
   "language": "R",
   "name": "ir"
  },
  "language_info": {
   "codemirror_mode": "r",
   "file_extension": ".r",
   "mimetype": "text/x-r-source",
   "name": "R",
   "pygments_lexer": "r",
   "version": "4.0.0"
  }
 },
 "nbformat": 4,
 "nbformat_minor": 4
}
