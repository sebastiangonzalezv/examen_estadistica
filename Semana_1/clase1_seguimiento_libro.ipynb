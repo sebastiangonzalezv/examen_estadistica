{
 "cells": [
  {
   "cell_type": "markdown",
   "metadata": {},
   "source": [
    "# Tipos de objetos\n",
    "En R existen varios tipos de objectos que permiten que el usuario pueda almacenar la información para realizar procedimientos estadísticos y gráficos. Los principales objetos en R son vectores, matrices, arreglos, marcos de datos y listas. A continuación se presentan las características de estos objetos y la forma para crearlos.\n",
    "## 2.1 Vectores \n",
    "Los vectores vectores son arreglos ordenados en los cuales se puede almacenar información de tipo numérico (variable cuantitativa), alfanumérico (variable cualitativa) o lógico (TRUE o FALSE), pero no mezclas de éstos. La función de R para crear un vector es c() y que significa concatenar; dentro de los paréntesis de esta función se ubica la información a almacenar. Una vez construído el vector se acostumbra a etiquetarlo con un nombre corto y representativo de la información que almacena, la asignación se hace por medio del operador <- entre el nombre y el vector.\n",
    "\n",
    "A continuación se presenta un ejemplo de cómo crear tres vectores que contienen las respuestas de cinco personas a tres preguntas que se les realizaron."
   ]
  },
  {
   "cell_type": "code",
   "execution_count": 1,
   "metadata": {},
   "outputs": [],
   "source": [
    "edad = c(15, 19, 13, NA, 20)\n",
    "deporte = c(TRUE, TRUE, NA, FALSE, TRUE)\n",
    "comic.fav = c(NA, 'Superman', 'Batman', NA, 'Batman')"
   ]
  },
  {
   "cell_type": "code",
   "execution_count": 2,
   "metadata": {},
   "outputs": [
    {
     "data": {
      "text/html": [
       "<style>\n",
       ".list-inline {list-style: none; margin:0; padding: 0}\n",
       ".list-inline>li {display: inline-block}\n",
       ".list-inline>li:not(:last-child)::after {content: \"\\00b7\"; padding: 0 .5ex}\n",
       "</style>\n",
       "<ol class=list-inline><li>15</li><li>19</li><li>13</li><li>&lt;NA&gt;</li><li>20</li></ol>\n"
      ],
      "text/latex": [
       "\\begin{enumerate*}\n",
       "\\item 15\n",
       "\\item 19\n",
       "\\item 13\n",
       "\\item <NA>\n",
       "\\item 20\n",
       "\\end{enumerate*}\n"
      ],
      "text/markdown": [
       "1. 15\n",
       "2. 19\n",
       "3. 13\n",
       "4. &lt;NA&gt;\n",
       "5. 20\n",
       "\n",
       "\n"
      ],
      "text/plain": [
       "[1] 15 19 13 NA 20"
      ]
     },
     "metadata": {},
     "output_type": "display_data"
    }
   ],
   "source": [
    "edad"
   ]
  },
  {
   "cell_type": "markdown",
   "metadata": {},
   "source": [
    "### 2.1.1 ¿Cómo extraer elementos de un vector?\n",
    "Para extraer un elemento almacenado dentro un vector se usan los corchetes [] y dentro de ellos la posición o posiciones que interesan."
   ]
  },
  {
   "cell_type": "code",
   "execution_count": 4,
   "metadata": {},
   "outputs": [
    {
     "data": {
      "text/html": [
       "13"
      ],
      "text/latex": [
       "13"
      ],
      "text/markdown": [
       "13"
      ],
      "text/plain": [
       "[1] 13"
      ]
     },
     "metadata": {},
     "output_type": "display_data"
    }
   ],
   "source": [
    "edad[3]"
   ]
  },
  {
   "cell_type": "markdown",
   "metadata": {},
   "source": [
    "## 2.2 Matrices\n",
    "\n",
    "Las matrices son arreglos rectangulares de filas y columnas con información numérica, alfanumérica o lógica. Para construir una matriz se usa la función matrix( ). Por ejemplo, para crear una matriz de 4 filas y 5 columnas (de dimensión 4×5\n",
    ") con los primeros 20 números positivos se escribe el código siguiente en la consola."
   ]
  },
  {
   "cell_type": "code",
   "execution_count": 5,
   "metadata": {},
   "outputs": [],
   "source": [
    "mimatriz = matrix(data=1:20, nrow=4, ncol=5, byrow=FALSE)"
   ]
  },
  {
   "cell_type": "code",
   "execution_count": 6,
   "metadata": {},
   "outputs": [
    {
     "data": {
      "text/html": [
       "<table>\n",
       "<caption>A matrix: 4 × 5 of type int</caption>\n",
       "<tbody>\n",
       "\t<tr><td>1</td><td>5</td><td> 9</td><td>13</td><td>17</td></tr>\n",
       "\t<tr><td>2</td><td>6</td><td>10</td><td>14</td><td>18</td></tr>\n",
       "\t<tr><td>3</td><td>7</td><td>11</td><td>15</td><td>19</td></tr>\n",
       "\t<tr><td>4</td><td>8</td><td>12</td><td>16</td><td>20</td></tr>\n",
       "</tbody>\n",
       "</table>\n"
      ],
      "text/latex": [
       "A matrix: 4 × 5 of type int\n",
       "\\begin{tabular}{lllll}\n",
       "\t 1 & 5 &  9 & 13 & 17\\\\\n",
       "\t 2 & 6 & 10 & 14 & 18\\\\\n",
       "\t 3 & 7 & 11 & 15 & 19\\\\\n",
       "\t 4 & 8 & 12 & 16 & 20\\\\\n",
       "\\end{tabular}\n"
      ],
      "text/markdown": [
       "\n",
       "A matrix: 4 × 5 of type int\n",
       "\n",
       "| 1 | 5 |  9 | 13 | 17 |\n",
       "| 2 | 6 | 10 | 14 | 18 |\n",
       "| 3 | 7 | 11 | 15 | 19 |\n",
       "| 4 | 8 | 12 | 16 | 20 |\n",
       "\n"
      ],
      "text/plain": [
       "     [,1] [,2] [,3] [,4] [,5]\n",
       "[1,] 1    5     9   13   17  \n",
       "[2,] 2    6    10   14   18  \n",
       "[3,] 3    7    11   15   19  \n",
       "[4,] 4    8    12   16   20  "
      ]
     },
     "metadata": {},
     "output_type": "display_data"
    }
   ],
   "source": [
    "mimatriz"
   ]
  },
  {
   "cell_type": "markdown",
   "metadata": {},
   "source": [
    "### 2.2.1 ¿Cómo extraer elementos de una matriz?\n",
    "\n",
    "Al igual que en el caso de los vectores, para extraer elementos almacenados dentro de una matriz se usan los corchetes [ , ] y dentro, separado por una coma, el número de fila(s) y el número de columna(s) que nos interesan.\n"
   ]
  },
  {
   "cell_type": "code",
   "execution_count": 11,
   "metadata": {},
   "outputs": [
    {
     "data": {
      "text/html": [
       "15"
      ],
      "text/latex": [
       "15"
      ],
      "text/markdown": [
       "15"
      ],
      "text/plain": [
       "[1] 15"
      ]
     },
     "metadata": {},
     "output_type": "display_data"
    },
    {
     "data": {
      "text/html": [
       "<style>\n",
       ".list-inline {list-style: none; margin:0; padding: 0}\n",
       ".list-inline>li {display: inline-block}\n",
       ".list-inline>li:not(:last-child)::after {content: \"\\00b7\"; padding: 0 .5ex}\n",
       "</style>\n",
       "<ol class=list-inline><li>2</li><li>6</li><li>10</li><li>14</li><li>18</li></ol>\n"
      ],
      "text/latex": [
       "\\begin{enumerate*}\n",
       "\\item 2\n",
       "\\item 6\n",
       "\\item 10\n",
       "\\item 14\n",
       "\\item 18\n",
       "\\end{enumerate*}\n"
      ],
      "text/markdown": [
       "1. 2\n",
       "2. 6\n",
       "3. 10\n",
       "4. 14\n",
       "5. 18\n",
       "\n",
       "\n"
      ],
      "text/plain": [
       "[1]  2  6 10 14 18"
      ]
     },
     "metadata": {},
     "output_type": "display_data"
    },
    {
     "data": {
      "text/html": [
       "<style>\n",
       ".list-inline {list-style: none; margin:0; padding: 0}\n",
       ".list-inline>li {display: inline-block}\n",
       ".list-inline>li:not(:last-child)::after {content: \"\\00b7\"; padding: 0 .5ex}\n",
       "</style>\n",
       "<ol class=list-inline><li>17</li><li>18</li><li>19</li><li>20</li></ol>\n"
      ],
      "text/latex": [
       "\\begin{enumerate*}\n",
       "\\item 17\n",
       "\\item 18\n",
       "\\item 19\n",
       "\\item 20\n",
       "\\end{enumerate*}\n"
      ],
      "text/markdown": [
       "1. 17\n",
       "2. 18\n",
       "3. 19\n",
       "4. 20\n",
       "\n",
       "\n"
      ],
      "text/plain": [
       "[1] 17 18 19 20"
      ]
     },
     "metadata": {},
     "output_type": "display_data"
    },
    {
     "data": {
      "text/html": [
       "<table>\n",
       "<caption>A matrix: 4 × 3 of type int</caption>\n",
       "<tbody>\n",
       "\t<tr><td>1</td><td> 9</td><td>17</td></tr>\n",
       "\t<tr><td>2</td><td>10</td><td>18</td></tr>\n",
       "\t<tr><td>3</td><td>11</td><td>19</td></tr>\n",
       "\t<tr><td>4</td><td>12</td><td>20</td></tr>\n",
       "</tbody>\n",
       "</table>\n"
      ],
      "text/latex": [
       "A matrix: 4 × 3 of type int\n",
       "\\begin{tabular}{lll}\n",
       "\t 1 &  9 & 17\\\\\n",
       "\t 2 & 10 & 18\\\\\n",
       "\t 3 & 11 & 19\\\\\n",
       "\t 4 & 12 & 20\\\\\n",
       "\\end{tabular}\n"
      ],
      "text/markdown": [
       "\n",
       "A matrix: 4 × 3 of type int\n",
       "\n",
       "| 1 |  9 | 17 |\n",
       "| 2 | 10 | 18 |\n",
       "| 3 | 11 | 19 |\n",
       "| 4 | 12 | 20 |\n",
       "\n"
      ],
      "text/plain": [
       "     [,1] [,2] [,3]\n",
       "[1,] 1     9   17  \n",
       "[2,] 2    10   18  \n",
       "[3,] 3    11   19  \n",
       "[4,] 4    12   20  "
      ]
     },
     "metadata": {},
     "output_type": "display_data"
    }
   ],
   "source": [
    "mimatriz[3, 4]\n",
    "mimatriz[2, ]\n",
    "mimatriz[, 5]\n",
    "mimatriz[, -c(2, 4)]"
   ]
  },
  {
   "cell_type": "markdown",
   "metadata": {},
   "source": [
    "## 2.3 Arreglos \n",
    "Un arreglo es una matriz de varias dimensiones con información numérica, alfanumérica o lógica. Para construir una arreglo se usa la función array( ). Por ejemplo, para crear un arreglo de 3×4×2 con las primeras 24 letras minúsculas del alfabeto se escribe el siguiente código.\n"
   ]
  },
  {
   "cell_type": "code",
   "execution_count": 15,
   "metadata": {},
   "outputs": [
    {
     "data": {
      "text/html": [
       "<style>\n",
       ".list-inline {list-style: none; margin:0; padding: 0}\n",
       ".list-inline>li {display: inline-block}\n",
       ".list-inline>li:not(:last-child)::after {content: \"\\00b7\"; padding: 0 .5ex}\n",
       "</style>\n",
       "<ol class=list-inline><li>'a'</li><li>'b'</li><li>'c'</li><li>'d'</li><li>'e'</li><li>'f'</li><li>'g'</li><li>'h'</li><li>'i'</li><li>'j'</li><li>'k'</li><li>'l'</li><li>'m'</li><li>'n'</li><li>'o'</li><li>'p'</li><li>'q'</li><li>'r'</li><li>'s'</li><li>'t'</li><li>'u'</li><li>'v'</li><li>'w'</li><li>'x'</li></ol>\n"
      ],
      "text/latex": [
       "\\begin{enumerate*}\n",
       "\\item 'a'\n",
       "\\item 'b'\n",
       "\\item 'c'\n",
       "\\item 'd'\n",
       "\\item 'e'\n",
       "\\item 'f'\n",
       "\\item 'g'\n",
       "\\item 'h'\n",
       "\\item 'i'\n",
       "\\item 'j'\n",
       "\\item 'k'\n",
       "\\item 'l'\n",
       "\\item 'm'\n",
       "\\item 'n'\n",
       "\\item 'o'\n",
       "\\item 'p'\n",
       "\\item 'q'\n",
       "\\item 'r'\n",
       "\\item 's'\n",
       "\\item 't'\n",
       "\\item 'u'\n",
       "\\item 'v'\n",
       "\\item 'w'\n",
       "\\item 'x'\n",
       "\\end{enumerate*}\n"
      ],
      "text/markdown": [
       "1. 'a'\n",
       "2. 'b'\n",
       "3. 'c'\n",
       "4. 'd'\n",
       "5. 'e'\n",
       "6. 'f'\n",
       "7. 'g'\n",
       "8. 'h'\n",
       "9. 'i'\n",
       "10. 'j'\n",
       "11. 'k'\n",
       "12. 'l'\n",
       "13. 'm'\n",
       "14. 'n'\n",
       "15. 'o'\n",
       "16. 'p'\n",
       "17. 'q'\n",
       "18. 'r'\n",
       "19. 's'\n",
       "20. 't'\n",
       "21. 'u'\n",
       "22. 'v'\n",
       "23. 'w'\n",
       "24. 'x'\n",
       "\n",
       "\n"
      ],
      "text/plain": [
       ", , 1\n",
       "\n",
       "     [,1] [,2] [,3] [,4]\n",
       "[1,] \"a\"  \"d\"  \"g\"  \"j\" \n",
       "[2,] \"b\"  \"e\"  \"h\"  \"k\" \n",
       "[3,] \"c\"  \"f\"  \"i\"  \"l\" \n",
       "\n",
       ", , 2\n",
       "\n",
       "     [,1] [,2] [,3] [,4]\n",
       "[1,] \"m\"  \"p\"  \"s\"  \"v\" \n",
       "[2,] \"n\"  \"q\"  \"t\"  \"w\" \n",
       "[3,] \"o\"  \"r\"  \"u\"  \"x\" \n"
      ]
     },
     "metadata": {},
     "output_type": "display_data"
    },
    {
     "data": {
      "text/html": [
       "'s'"
      ],
      "text/latex": [
       "'s'"
      ],
      "text/markdown": [
       "'s'"
      ],
      "text/plain": [
       "[1] \"s\""
      ]
     },
     "metadata": {},
     "output_type": "display_data"
    }
   ],
   "source": [
    "miarray <- array(data=letters[1:24], dim=c(3, 4, 2))\n",
    "miarray\n",
    "miarray[1, 3, 2]"
   ]
  },
  {
   "cell_type": "markdown",
   "metadata": {},
   "source": [
    "## 2.4 Marco de datos (DataFrame\n",
    "El marco de datos marco de datos o data frame es uno de los objetos más utilizados porque permite agrupar vectores con información de diferente tipo (numérica, alfanumérica o lógica) en un mismo objeto, la única restricción es que los vectores deben tener la misma longitud. Para crear un marco de datos se usa la función data.frame( ), como ejemplo vamos a crear un marco de datos con los vectores edad, deporte y comic.fav definidos anteriormente."
   ]
  },
  {
   "cell_type": "code",
   "execution_count": 23,
   "metadata": {},
   "outputs": [
    {
     "data": {
      "text/html": [
       "<table>\n",
       "<caption>A data.frame: 5 × 3</caption>\n",
       "<thead>\n",
       "\t<tr><th scope=col>edad</th><th scope=col>deporte</th><th scope=col>comic.fav</th></tr>\n",
       "\t<tr><th scope=col>&lt;dbl&gt;</th><th scope=col>&lt;lgl&gt;</th><th scope=col>&lt;chr&gt;</th></tr>\n",
       "</thead>\n",
       "<tbody>\n",
       "\t<tr><td>15</td><td> TRUE</td><td>NA      </td></tr>\n",
       "\t<tr><td>19</td><td> TRUE</td><td>Superman</td></tr>\n",
       "\t<tr><td>13</td><td>   NA</td><td>Batman  </td></tr>\n",
       "\t<tr><td>NA</td><td>FALSE</td><td>NA      </td></tr>\n",
       "\t<tr><td>20</td><td> TRUE</td><td>Batman  </td></tr>\n",
       "</tbody>\n",
       "</table>\n"
      ],
      "text/latex": [
       "A data.frame: 5 × 3\n",
       "\\begin{tabular}{lll}\n",
       " edad & deporte & comic.fav\\\\\n",
       " <dbl> & <lgl> & <chr>\\\\\n",
       "\\hline\n",
       "\t 15 &  TRUE & NA      \\\\\n",
       "\t 19 &  TRUE & Superman\\\\\n",
       "\t 13 &    NA & Batman  \\\\\n",
       "\t NA & FALSE & NA      \\\\\n",
       "\t 20 &  TRUE & Batman  \\\\\n",
       "\\end{tabular}\n"
      ],
      "text/markdown": [
       "\n",
       "A data.frame: 5 × 3\n",
       "\n",
       "| edad &lt;dbl&gt; | deporte &lt;lgl&gt; | comic.fav &lt;chr&gt; |\n",
       "|---|---|---|\n",
       "| 15 |  TRUE | NA       |\n",
       "| 19 |  TRUE | Superman |\n",
       "| 13 |    NA | Batman   |\n",
       "| NA | FALSE | NA       |\n",
       "| 20 |  TRUE | Batman   |\n",
       "\n"
      ],
      "text/plain": [
       "  edad deporte comic.fav\n",
       "1 15    TRUE   NA       \n",
       "2 19    TRUE   Superman \n",
       "3 13      NA   Batman   \n",
       "4 NA   FALSE   NA       \n",
       "5 20    TRUE   Batman   "
      ]
     },
     "metadata": {},
     "output_type": "display_data"
    },
    {
     "data": {
      "text/html": [
       "<style>\n",
       ".list-inline {list-style: none; margin:0; padding: 0}\n",
       ".list-inline>li {display: inline-block}\n",
       ".list-inline>li:not(:last-child)::after {content: \"\\00b7\"; padding: 0 .5ex}\n",
       "</style>\n",
       "<ol class=list-inline><li>TRUE</li><li>TRUE</li><li>&lt;NA&gt;</li><li>FALSE</li><li>TRUE</li></ol>\n"
      ],
      "text/latex": [
       "\\begin{enumerate*}\n",
       "\\item TRUE\n",
       "\\item TRUE\n",
       "\\item <NA>\n",
       "\\item FALSE\n",
       "\\item TRUE\n",
       "\\end{enumerate*}\n"
      ],
      "text/markdown": [
       "1. TRUE\n",
       "2. TRUE\n",
       "3. &lt;NA&gt;\n",
       "4. FALSE\n",
       "5. TRUE\n",
       "\n",
       "\n"
      ],
      "text/plain": [
       "[1]  TRUE  TRUE    NA FALSE  TRUE"
      ]
     },
     "metadata": {},
     "output_type": "display_data"
    },
    {
     "data": {
      "text/html": [
       "<style>\n",
       ".list-inline {list-style: none; margin:0; padding: 0}\n",
       ".list-inline>li {display: inline-block}\n",
       ".list-inline>li:not(:last-child)::after {content: \"\\00b7\"; padding: 0 .5ex}\n",
       "</style>\n",
       "<ol class=list-inline><li>TRUE</li><li>TRUE</li><li>&lt;NA&gt;</li><li>FALSE</li><li>TRUE</li></ol>\n"
      ],
      "text/latex": [
       "\\begin{enumerate*}\n",
       "\\item TRUE\n",
       "\\item TRUE\n",
       "\\item <NA>\n",
       "\\item FALSE\n",
       "\\item TRUE\n",
       "\\end{enumerate*}\n"
      ],
      "text/markdown": [
       "1. TRUE\n",
       "2. TRUE\n",
       "3. &lt;NA&gt;\n",
       "4. FALSE\n",
       "5. TRUE\n",
       "\n",
       "\n"
      ],
      "text/plain": [
       "[1]  TRUE  TRUE    NA FALSE  TRUE"
      ]
     },
     "metadata": {},
     "output_type": "display_data"
    },
    {
     "data": {
      "text/html": [
       "<style>\n",
       ".list-inline {list-style: none; margin:0; padding: 0}\n",
       ".list-inline>li {display: inline-block}\n",
       ".list-inline>li:not(:last-child)::after {content: \"\\00b7\"; padding: 0 .5ex}\n",
       "</style>\n",
       "<ol class=list-inline><li>TRUE</li><li>TRUE</li><li>&lt;NA&gt;</li><li>FALSE</li><li>TRUE</li></ol>\n"
      ],
      "text/latex": [
       "\\begin{enumerate*}\n",
       "\\item TRUE\n",
       "\\item TRUE\n",
       "\\item <NA>\n",
       "\\item FALSE\n",
       "\\item TRUE\n",
       "\\end{enumerate*}\n"
      ],
      "text/markdown": [
       "1. TRUE\n",
       "2. TRUE\n",
       "3. &lt;NA&gt;\n",
       "4. FALSE\n",
       "5. TRUE\n",
       "\n",
       "\n"
      ],
      "text/plain": [
       "[1]  TRUE  TRUE    NA FALSE  TRUE"
      ]
     },
     "metadata": {},
     "output_type": "display_data"
    },
    {
     "data": {
      "text/html": [
       "<table>\n",
       "<caption>A data.frame: 5 × 2</caption>\n",
       "<thead>\n",
       "\t<tr><th scope=col>deporte</th><th scope=col>edad</th></tr>\n",
       "\t<tr><th scope=col>&lt;lgl&gt;</th><th scope=col>&lt;dbl&gt;</th></tr>\n",
       "</thead>\n",
       "<tbody>\n",
       "\t<tr><td> TRUE</td><td>15</td></tr>\n",
       "\t<tr><td> TRUE</td><td>19</td></tr>\n",
       "\t<tr><td>   NA</td><td>13</td></tr>\n",
       "\t<tr><td>FALSE</td><td>NA</td></tr>\n",
       "\t<tr><td> TRUE</td><td>20</td></tr>\n",
       "</tbody>\n",
       "</table>\n"
      ],
      "text/latex": [
       "A data.frame: 5 × 2\n",
       "\\begin{tabular}{ll}\n",
       " deporte & edad\\\\\n",
       " <lgl> & <dbl>\\\\\n",
       "\\hline\n",
       "\t  TRUE & 15\\\\\n",
       "\t  TRUE & 19\\\\\n",
       "\t    NA & 13\\\\\n",
       "\t FALSE & NA\\\\\n",
       "\t  TRUE & 20\\\\\n",
       "\\end{tabular}\n"
      ],
      "text/markdown": [
       "\n",
       "A data.frame: 5 × 2\n",
       "\n",
       "| deporte &lt;lgl&gt; | edad &lt;dbl&gt; |\n",
       "|---|---|\n",
       "|  TRUE | 15 |\n",
       "|  TRUE | 19 |\n",
       "|    NA | 13 |\n",
       "| FALSE | NA |\n",
       "|  TRUE | 20 |\n",
       "\n"
      ],
      "text/plain": [
       "  deporte edad\n",
       "1  TRUE   15  \n",
       "2  TRUE   19  \n",
       "3    NA   13  \n",
       "4 FALSE   NA  \n",
       "5  TRUE   20  "
      ]
     },
     "metadata": {},
     "output_type": "display_data"
    },
    {
     "data": {
      "text/html": [
       "<style>\n",
       ".list-inline {list-style: none; margin:0; padding: 0}\n",
       ".list-inline>li {display: inline-block}\n",
       ".list-inline>li:not(:last-child)::after {content: \"\\00b7\"; padding: 0 .5ex}\n",
       "</style>\n",
       "<ol class=list-inline><li>19</li><li>13</li><li>&lt;NA&gt;</li></ol>\n"
      ],
      "text/latex": [
       "\\begin{enumerate*}\n",
       "\\item 19\n",
       "\\item 13\n",
       "\\item <NA>\n",
       "\\end{enumerate*}\n"
      ],
      "text/markdown": [
       "1. 19\n",
       "2. 13\n",
       "3. &lt;NA&gt;\n",
       "\n",
       "\n"
      ],
      "text/plain": [
       "[1] 19 13 NA"
      ]
     },
     "metadata": {},
     "output_type": "display_data"
    }
   ],
   "source": [
    "mimarco <- data.frame(edad, deporte, comic.fav)\n",
    "mimarco\n",
    "mimarco$deporte\n",
    "mimarco[, 2]\n",
    "mimarco[[\"deporte\"]]\n",
    "mimarco[c(\"deporte\", \"edad\")]\n",
    "mimarco[2:4, 1]"
   ]
  },
  {
   "cell_type": "markdown",
   "metadata": {},
   "source": [
    "## 2.4.2 ¿Cómo extraer subconjuntos de un marco de datos? \n",
    "Para extraer partes de un marco de datos se puede utilizar la función subset(x, subset, select). El parámetro x sirve para indicar el marco de datos original, el parámetro subset sirve para colocar la condición y el parámetro select sirve para quedarnos sólo con algunas de las variables del marco de datos. A continuación varios ejemplos de la función subset para ver su utilidad."
   ]
  },
  {
   "cell_type": "code",
   "execution_count": 26,
   "metadata": {},
   "outputs": [
    {
     "data": {
      "text/html": [
       "<table>\n",
       "<caption>A data.frame: 3 × 3</caption>\n",
       "<thead>\n",
       "\t<tr><th></th><th scope=col>edad</th><th scope=col>deporte</th><th scope=col>comic.fav</th></tr>\n",
       "\t<tr><th></th><th scope=col>&lt;dbl&gt;</th><th scope=col>&lt;lgl&gt;</th><th scope=col>&lt;chr&gt;</th></tr>\n",
       "</thead>\n",
       "<tbody>\n",
       "\t<tr><th scope=row>1</th><td>15</td><td>TRUE</td><td>NA      </td></tr>\n",
       "\t<tr><th scope=row>2</th><td>19</td><td>TRUE</td><td>Superman</td></tr>\n",
       "\t<tr><th scope=row>5</th><td>20</td><td>TRUE</td><td>Batman  </td></tr>\n",
       "</tbody>\n",
       "</table>\n"
      ],
      "text/latex": [
       "A data.frame: 3 × 3\n",
       "\\begin{tabular}{r|lll}\n",
       "  & edad & deporte & comic.fav\\\\\n",
       "  & <dbl> & <lgl> & <chr>\\\\\n",
       "\\hline\n",
       "\t1 & 15 & TRUE & NA      \\\\\n",
       "\t2 & 19 & TRUE & Superman\\\\\n",
       "\t5 & 20 & TRUE & Batman  \\\\\n",
       "\\end{tabular}\n"
      ],
      "text/markdown": [
       "\n",
       "A data.frame: 3 × 3\n",
       "\n",
       "| <!--/--> | edad &lt;dbl&gt; | deporte &lt;lgl&gt; | comic.fav &lt;chr&gt; |\n",
       "|---|---|---|---|\n",
       "| 1 | 15 | TRUE | NA       |\n",
       "| 2 | 19 | TRUE | Superman |\n",
       "| 5 | 20 | TRUE | Batman   |\n",
       "\n"
      ],
      "text/plain": [
       "  edad deporte comic.fav\n",
       "1 15   TRUE    NA       \n",
       "2 19   TRUE    Superman \n",
       "5 20   TRUE    Batman   "
      ]
     },
     "metadata": {},
     "output_type": "display_data"
    },
    {
     "data": {
      "text/html": [
       "<table>\n",
       "<caption>A data.frame: 2 × 3</caption>\n",
       "<thead>\n",
       "\t<tr><th></th><th scope=col>edad</th><th scope=col>deporte</th><th scope=col>comic.fav</th></tr>\n",
       "\t<tr><th></th><th scope=col>&lt;dbl&gt;</th><th scope=col>&lt;lgl&gt;</th><th scope=col>&lt;chr&gt;</th></tr>\n",
       "</thead>\n",
       "<tbody>\n",
       "\t<tr><th scope=row>2</th><td>19</td><td>TRUE</td><td>Superman</td></tr>\n",
       "\t<tr><th scope=row>5</th><td>20</td><td>TRUE</td><td>Batman  </td></tr>\n",
       "</tbody>\n",
       "</table>\n"
      ],
      "text/latex": [
       "A data.frame: 2 × 3\n",
       "\\begin{tabular}{r|lll}\n",
       "  & edad & deporte & comic.fav\\\\\n",
       "  & <dbl> & <lgl> & <chr>\\\\\n",
       "\\hline\n",
       "\t2 & 19 & TRUE & Superman\\\\\n",
       "\t5 & 20 & TRUE & Batman  \\\\\n",
       "\\end{tabular}\n"
      ],
      "text/markdown": [
       "\n",
       "A data.frame: 2 × 3\n",
       "\n",
       "| <!--/--> | edad &lt;dbl&gt; | deporte &lt;lgl&gt; | comic.fav &lt;chr&gt; |\n",
       "|---|---|---|---|\n",
       "| 2 | 19 | TRUE | Superman |\n",
       "| 5 | 20 | TRUE | Batman   |\n",
       "\n"
      ],
      "text/plain": [
       "  edad deporte comic.fav\n",
       "2 19   TRUE    Superman \n",
       "5 20   TRUE    Batman   "
      ]
     },
     "metadata": {},
     "output_type": "display_data"
    },
    {
     "data": {
      "text/html": [
       "<table>\n",
       "<caption>A data.frame: 3 × 2</caption>\n",
       "<thead>\n",
       "\t<tr><th></th><th scope=col>deporte</th><th scope=col>comic.fav</th></tr>\n",
       "\t<tr><th></th><th scope=col>&lt;lgl&gt;</th><th scope=col>&lt;chr&gt;</th></tr>\n",
       "</thead>\n",
       "<tbody>\n",
       "\t<tr><th scope=row>1</th><td>TRUE</td><td>NA      </td></tr>\n",
       "\t<tr><th scope=row>2</th><td>TRUE</td><td>Superman</td></tr>\n",
       "\t<tr><th scope=row>3</th><td>  NA</td><td>Batman  </td></tr>\n",
       "</tbody>\n",
       "</table>\n"
      ],
      "text/latex": [
       "A data.frame: 3 × 2\n",
       "\\begin{tabular}{r|ll}\n",
       "  & deporte & comic.fav\\\\\n",
       "  & <lgl> & <chr>\\\\\n",
       "\\hline\n",
       "\t1 & TRUE & NA      \\\\\n",
       "\t2 & TRUE & Superman\\\\\n",
       "\t3 &   NA & Batman  \\\\\n",
       "\\end{tabular}\n"
      ],
      "text/markdown": [
       "\n",
       "A data.frame: 3 × 2\n",
       "\n",
       "| <!--/--> | deporte &lt;lgl&gt; | comic.fav &lt;chr&gt; |\n",
       "|---|---|---|\n",
       "| 1 | TRUE | NA       |\n",
       "| 2 | TRUE | Superman |\n",
       "| 3 |   NA | Batman   |\n",
       "\n"
      ],
      "text/plain": [
       "  deporte comic.fav\n",
       "1 TRUE    NA       \n",
       "2 TRUE    Superman \n",
       "3   NA    Batman   "
      ]
     },
     "metadata": {},
     "output_type": "display_data"
    }
   ],
   "source": [
    "subset(mimarco, subset=deporte == TRUE)\n",
    "subset(mimarco, subset=edad >= 17)\n",
    "subset(mimarco, subset=edad < 20, select=c('deporte', 'comic.fav'))"
   ]
  },
  {
   "cell_type": "markdown",
   "metadata": {},
   "source": [
    "Leer la base de datos medidas del cuerpo disponible en este enlace https://raw.githubusercontent.com/fhernanb/datos/master/medidas_cuerpo. Extraer de esta base de datos una sub-base o subconjunto que contenga sólo la edad, peso, altura y sexo de aquellos que miden más de 185 cm y pesan más de 8"
   ]
  },
  {
   "cell_type": "code",
   "execution_count": 28,
   "metadata": {},
   "outputs": [
    {
     "data": {
      "text/html": [
       "<style>\n",
       ".list-inline {list-style: none; margin:0; padding: 0}\n",
       ".list-inline>li {display: inline-block}\n",
       ".list-inline>li:not(:last-child)::after {content: \"\\00b7\"; padding: 0 .5ex}\n",
       "</style>\n",
       "<ol class=list-inline><li>36</li><li>6</li></ol>\n"
      ],
      "text/latex": [
       "\\begin{enumerate*}\n",
       "\\item 36\n",
       "\\item 6\n",
       "\\end{enumerate*}\n"
      ],
      "text/markdown": [
       "1. 36\n",
       "2. 6\n",
       "\n",
       "\n"
      ],
      "text/plain": [
       "[1] 36  6"
      ]
     },
     "metadata": {},
     "output_type": "display_data"
    },
    {
     "data": {
      "text/html": [
       "<table>\n",
       "<caption>A data.frame: 3 × 4</caption>\n",
       "<thead>\n",
       "\t<tr><th></th><th scope=col>sexo</th><th scope=col>edad</th><th scope=col>peso</th><th scope=col>altura</th></tr>\n",
       "\t<tr><th></th><th scope=col>&lt;chr&gt;</th><th scope=col>&lt;int&gt;</th><th scope=col>&lt;dbl&gt;</th><th scope=col>&lt;dbl&gt;</th></tr>\n",
       "</thead>\n",
       "<tbody>\n",
       "\t<tr><th scope=row>1</th><td>Hombre</td><td>43</td><td>87.3</td><td>188.0</td></tr>\n",
       "\t<tr><th scope=row>6</th><td>Hombre</td><td>33</td><td>85.9</td><td>188.0</td></tr>\n",
       "\t<tr><th scope=row>15</th><td>Hombre</td><td>30</td><td>98.2</td><td>190.5</td></tr>\n",
       "</tbody>\n",
       "</table>\n"
      ],
      "text/latex": [
       "A data.frame: 3 × 4\n",
       "\\begin{tabular}{r|llll}\n",
       "  & sexo & edad & peso & altura\\\\\n",
       "  & <chr> & <int> & <dbl> & <dbl>\\\\\n",
       "\\hline\n",
       "\t1 & Hombre & 43 & 87.3 & 188.0\\\\\n",
       "\t6 & Hombre & 33 & 85.9 & 188.0\\\\\n",
       "\t15 & Hombre & 30 & 98.2 & 190.5\\\\\n",
       "\\end{tabular}\n"
      ],
      "text/markdown": [
       "\n",
       "A data.frame: 3 × 4\n",
       "\n",
       "| <!--/--> | sexo &lt;chr&gt; | edad &lt;int&gt; | peso &lt;dbl&gt; | altura &lt;dbl&gt; |\n",
       "|---|---|---|---|---|\n",
       "| 1 | Hombre | 43 | 87.3 | 188.0 |\n",
       "| 6 | Hombre | 33 | 85.9 | 188.0 |\n",
       "| 15 | Hombre | 30 | 98.2 | 190.5 |\n",
       "\n"
      ],
      "text/plain": [
       "   sexo   edad peso altura\n",
       "1  Hombre 43   87.3 188.0 \n",
       "6  Hombre 33   85.9 188.0 \n",
       "15 Hombre 30   98.2 190.5 "
      ]
     },
     "metadata": {},
     "output_type": "display_data"
    }
   ],
   "source": [
    "url = 'https://raw.githubusercontent.com/fhernanb/datos/master/medidas_cuerpo'\n",
    "dt1 = read.table(url, header=T)\n",
    "dim(dt1)  # Para conocer la dimensión de la base original\n",
    "dt2 = subset(x=dt1, subset=altura > 185 & peso > 80,\n",
    "              select=c('sexo', 'edad', 'peso', 'altura'))\n",
    "dt2  # Para mostrar la base de datos final"
   ]
  },
  {
   "cell_type": "markdown",
   "metadata": {},
   "source": [
    "## 2.5 Listas \n",
    "Las listas son otro tipo de objeto muy usado para almacenar objetos de diferente tipo. La instrucción para crear una lista es list( ). A continuación vamos a crear una lista que contiene tres objetos: un vector con 5 números aleatorios llamado mivector, una matriz de dimensión 6×2 con los primeros doce números enteros positivos llamada matriz2 y el tercer objeto será el marco de datos mimarco creado en el apartado anterior. Las instrucciones para crear la lista requerida se muestran a continuación."
   ]
  },
  {
   "cell_type": "code",
   "execution_count": 29,
   "metadata": {},
   "outputs": [],
   "source": [
    "set.seed(12345)\n",
    "mivector <- runif(n=5)\n",
    "matriz2 <- matrix(data=1:12, ncol=6)\n",
    "milista <- list(E1=mivector, E2=matriz2, E3=mimarco)"
   ]
  },
  {
   "cell_type": "markdown",
   "metadata": {},
   "source": [
    "La función set.seed de la línea número 1 sirve para fijar la semilla de tal manera que los números aleatorios generados en la segunda línea con la función runif sean siempre los mismos. En la última línea del código anterior se construye la lista, dentro de la función list se colocan los tres objetos mivector, matriz2 y mimarco. Es posible colocarle un nombre especial a cada uno de los elementos de la lista, en este ejemplo se colocaron los nombres E1, E2 y E3 para cada uno de los tres elementos. Para observar lo que quedó almacenado en la lista se escribe milista en la consola y el resultado se muestra a continuación."
   ]
  },
  {
   "cell_type": "code",
   "execution_count": 31,
   "metadata": {},
   "outputs": [
    {
     "data": {
      "text/html": [
       "<dl>\n",
       "\t<dt>$E1</dt>\n",
       "\t\t<dd><style>\n",
       ".list-inline {list-style: none; margin:0; padding: 0}\n",
       ".list-inline>li {display: inline-block}\n",
       ".list-inline>li:not(:last-child)::after {content: \"\\00b7\"; padding: 0 .5ex}\n",
       "</style>\n",
       "<ol class=list-inline><li>0.720903896261007</li><li>0.875773193081841</li><li>0.760982328327373</li><li>0.886124566197395</li><li>0.456480960128829</li></ol>\n",
       "</dd>\n",
       "\t<dt>$E2</dt>\n",
       "\t\t<dd><table>\n",
       "<caption>A matrix: 2 × 6 of type int</caption>\n",
       "<tbody>\n",
       "\t<tr><td>1</td><td>3</td><td>5</td><td>7</td><td> 9</td><td>11</td></tr>\n",
       "\t<tr><td>2</td><td>4</td><td>6</td><td>8</td><td>10</td><td>12</td></tr>\n",
       "</tbody>\n",
       "</table>\n",
       "</dd>\n",
       "\t<dt>$E3</dt>\n",
       "\t\t<dd><table>\n",
       "<caption>A data.frame: 5 × 3</caption>\n",
       "<thead>\n",
       "\t<tr><th scope=col>edad</th><th scope=col>deporte</th><th scope=col>comic.fav</th></tr>\n",
       "\t<tr><th scope=col>&lt;dbl&gt;</th><th scope=col>&lt;lgl&gt;</th><th scope=col>&lt;chr&gt;</th></tr>\n",
       "</thead>\n",
       "<tbody>\n",
       "\t<tr><td>15</td><td> TRUE</td><td>NA      </td></tr>\n",
       "\t<tr><td>19</td><td> TRUE</td><td>Superman</td></tr>\n",
       "\t<tr><td>13</td><td>   NA</td><td>Batman  </td></tr>\n",
       "\t<tr><td>NA</td><td>FALSE</td><td>NA      </td></tr>\n",
       "\t<tr><td>20</td><td> TRUE</td><td>Batman  </td></tr>\n",
       "</tbody>\n",
       "</table>\n",
       "</dd>\n",
       "</dl>\n"
      ],
      "text/latex": [
       "\\begin{description}\n",
       "\\item[\\$E1] \\begin{enumerate*}\n",
       "\\item 0.720903896261007\n",
       "\\item 0.875773193081841\n",
       "\\item 0.760982328327373\n",
       "\\item 0.886124566197395\n",
       "\\item 0.456480960128829\n",
       "\\end{enumerate*}\n",
       "\n",
       "\\item[\\$E2] A matrix: 2 × 6 of type int\n",
       "\\begin{tabular}{llllll}\n",
       "\t 1 & 3 & 5 & 7 &  9 & 11\\\\\n",
       "\t 2 & 4 & 6 & 8 & 10 & 12\\\\\n",
       "\\end{tabular}\n",
       "\n",
       "\\item[\\$E3] A data.frame: 5 × 3\n",
       "\\begin{tabular}{lll}\n",
       " edad & deporte & comic.fav\\\\\n",
       " <dbl> & <lgl> & <chr>\\\\\n",
       "\\hline\n",
       "\t 15 &  TRUE & NA      \\\\\n",
       "\t 19 &  TRUE & Superman\\\\\n",
       "\t 13 &    NA & Batman  \\\\\n",
       "\t NA & FALSE & NA      \\\\\n",
       "\t 20 &  TRUE & Batman  \\\\\n",
       "\\end{tabular}\n",
       "\n",
       "\\end{description}\n"
      ],
      "text/markdown": [
       "$E1\n",
       ":   1. 0.720903896261007\n",
       "2. 0.875773193081841\n",
       "3. 0.760982328327373\n",
       "4. 0.886124566197395\n",
       "5. 0.456480960128829\n",
       "\n",
       "\n",
       "\n",
       "$E2\n",
       ":   \n",
       "A matrix: 2 × 6 of type int\n",
       "\n",
       "| 1 | 3 | 5 | 7 |  9 | 11 |\n",
       "| 2 | 4 | 6 | 8 | 10 | 12 |\n",
       "\n",
       "\n",
       "$E3\n",
       ":   \n",
       "A data.frame: 5 × 3\n",
       "\n",
       "| edad &lt;dbl&gt; | deporte &lt;lgl&gt; | comic.fav &lt;chr&gt; |\n",
       "|---|---|---|\n",
       "| 15 |  TRUE | NA       |\n",
       "| 19 |  TRUE | Superman |\n",
       "| 13 |    NA | Batman   |\n",
       "| NA | FALSE | NA       |\n",
       "| 20 |  TRUE | Batman   |\n",
       "\n",
       "\n",
       "\n",
       "\n"
      ],
      "text/plain": [
       "$E1\n",
       "[1] 0.7209039 0.8757732 0.7609823 0.8861246 0.4564810\n",
       "\n",
       "$E2\n",
       "     [,1] [,2] [,3] [,4] [,5] [,6]\n",
       "[1,]    1    3    5    7    9   11\n",
       "[2,]    2    4    6    8   10   12\n",
       "\n",
       "$E3\n",
       "  edad deporte comic.fav\n",
       "1   15    TRUE      <NA>\n",
       "2   19    TRUE  Superman\n",
       "3   13      NA    Batman\n",
       "4   NA   FALSE      <NA>\n",
       "5   20    TRUE    Batman\n"
      ]
     },
     "metadata": {},
     "output_type": "display_data"
    },
    {
     "data": {
      "text/html": [
       "<table>\n",
       "<caption>A matrix: 2 × 6 of type int</caption>\n",
       "<tbody>\n",
       "\t<tr><td>1</td><td>3</td><td>5</td><td>7</td><td> 9</td><td>11</td></tr>\n",
       "\t<tr><td>2</td><td>4</td><td>6</td><td>8</td><td>10</td><td>12</td></tr>\n",
       "</tbody>\n",
       "</table>\n"
      ],
      "text/latex": [
       "A matrix: 2 × 6 of type int\n",
       "\\begin{tabular}{llllll}\n",
       "\t 1 & 3 & 5 & 7 &  9 & 11\\\\\n",
       "\t 2 & 4 & 6 & 8 & 10 & 12\\\\\n",
       "\\end{tabular}\n"
      ],
      "text/markdown": [
       "\n",
       "A matrix: 2 × 6 of type int\n",
       "\n",
       "| 1 | 3 | 5 | 7 |  9 | 11 |\n",
       "| 2 | 4 | 6 | 8 | 10 | 12 |\n",
       "\n"
      ],
      "text/plain": [
       "     [,1] [,2] [,3] [,4] [,5] [,6]\n",
       "[1,] 1    3    5    7     9   11  \n",
       "[2,] 2    4    6    8    10   12  "
      ]
     },
     "metadata": {},
     "output_type": "display_data"
    },
    {
     "data": {
      "text/html": [
       "<table>\n",
       "<caption>A matrix: 2 × 6 of type int</caption>\n",
       "<tbody>\n",
       "\t<tr><td>1</td><td>3</td><td>5</td><td>7</td><td> 9</td><td>11</td></tr>\n",
       "\t<tr><td>2</td><td>4</td><td>6</td><td>8</td><td>10</td><td>12</td></tr>\n",
       "</tbody>\n",
       "</table>\n"
      ],
      "text/latex": [
       "A matrix: 2 × 6 of type int\n",
       "\\begin{tabular}{llllll}\n",
       "\t 1 & 3 & 5 & 7 &  9 & 11\\\\\n",
       "\t 2 & 4 & 6 & 8 & 10 & 12\\\\\n",
       "\\end{tabular}\n"
      ],
      "text/markdown": [
       "\n",
       "A matrix: 2 × 6 of type int\n",
       "\n",
       "| 1 | 3 | 5 | 7 |  9 | 11 |\n",
       "| 2 | 4 | 6 | 8 | 10 | 12 |\n",
       "\n"
      ],
      "text/plain": [
       "     [,1] [,2] [,3] [,4] [,5] [,6]\n",
       "[1,] 1    3    5    7     9   11  \n",
       "[2,] 2    4    6    8    10   12  "
      ]
     },
     "metadata": {},
     "output_type": "display_data"
    },
    {
     "data": {
      "text/html": [
       "<style>\n",
       ".list-inline {list-style: none; margin:0; padding: 0}\n",
       ".list-inline>li {display: inline-block}\n",
       ".list-inline>li:not(:last-child)::after {content: \"\\00b7\"; padding: 0 .5ex}\n",
       "</style>\n",
       "<ol class=list-inline><li>'matrix'</li><li>'array'</li></ol>\n"
      ],
      "text/latex": [
       "\\begin{enumerate*}\n",
       "\\item 'matrix'\n",
       "\\item 'array'\n",
       "\\end{enumerate*}\n"
      ],
      "text/markdown": [
       "1. 'matrix'\n",
       "2. 'array'\n",
       "\n",
       "\n"
      ],
      "text/plain": [
       "[1] \"matrix\" \"array\" "
      ]
     },
     "metadata": {},
     "output_type": "display_data"
    }
   ],
   "source": [
    "milista\n",
    "milista$E2\n",
    "milista[[2]]\n",
    "class(milista$E2)"
   ]
  },
  {
   "cell_type": "markdown",
   "metadata": {},
   "source": [
    "# Ejercicios\n",
    "Use funciones o procedimientos (varias líneas) de R para responder cada una de las siguientes preguntas.\n",
    "\n",
    "1. Construya un vector con la primeras 20 letras MAYÚSCULAS usando la función LETTERS.\n",
    "\n",
    "2. Construya una matriz de 10×10 con los primeros 100 números positivos pares.\n",
    "\n",
    "3. Construya una matriz identidad de dimension 3×3. Recuerde que una matriz identidad tiene sólo unos en la diagonal principal y los demás elementos son cero.\n",
    "\n",
    "4. Construya una lista con los anteriores tres objetos creados.\n",
    "\n",
    "5. Construya un marco de datos o data frame con las respuestas de 3 personas a las preguntas: (a) ¿Cuál es su edad en años? (b) ¿Tipo de música que más le gusta? (c) ¿Tiene usted pareja sentimental estable?\n",
    "\n",
    "6. ¿Cuál es el error al correr el siguiente código? ¿A qué se debe?\n",
    "        edad <- c(15, 19, 13, NA, 20)\n",
    "        deporte <- c(TRUE, TRUE, NA, FALSE, TRUE)\n",
    "        comic.fav <- c(NA, 'Superman', 'Batman', NA, 'Batman')\n",
    "        matrix(edad, deporte, comic.fav)"
   ]
  },
  {
   "cell_type": "code",
   "execution_count": 38,
   "metadata": {},
   "outputs": [
    {
     "data": {
      "text/html": [
       "<style>\n",
       ".list-inline {list-style: none; margin:0; padding: 0}\n",
       ".list-inline>li {display: inline-block}\n",
       ".list-inline>li:not(:last-child)::after {content: \"\\00b7\"; padding: 0 .5ex}\n",
       "</style>\n",
       "<ol class=list-inline><li>'A'</li><li>'B'</li><li>'C'</li><li>'D'</li><li>'E'</li><li>'F'</li><li>'G'</li><li>'H'</li><li>'I'</li><li>'J'</li><li>'K'</li><li>'L'</li><li>'M'</li><li>'N'</li><li>'O'</li><li>'P'</li><li>'Q'</li><li>'R'</li><li>'S'</li><li>'T'</li></ol>\n"
      ],
      "text/latex": [
       "\\begin{enumerate*}\n",
       "\\item 'A'\n",
       "\\item 'B'\n",
       "\\item 'C'\n",
       "\\item 'D'\n",
       "\\item 'E'\n",
       "\\item 'F'\n",
       "\\item 'G'\n",
       "\\item 'H'\n",
       "\\item 'I'\n",
       "\\item 'J'\n",
       "\\item 'K'\n",
       "\\item 'L'\n",
       "\\item 'M'\n",
       "\\item 'N'\n",
       "\\item 'O'\n",
       "\\item 'P'\n",
       "\\item 'Q'\n",
       "\\item 'R'\n",
       "\\item 'S'\n",
       "\\item 'T'\n",
       "\\end{enumerate*}\n"
      ],
      "text/markdown": [
       "1. 'A'\n",
       "2. 'B'\n",
       "3. 'C'\n",
       "4. 'D'\n",
       "5. 'E'\n",
       "6. 'F'\n",
       "7. 'G'\n",
       "8. 'H'\n",
       "9. 'I'\n",
       "10. 'J'\n",
       "11. 'K'\n",
       "12. 'L'\n",
       "13. 'M'\n",
       "14. 'N'\n",
       "15. 'O'\n",
       "16. 'P'\n",
       "17. 'Q'\n",
       "18. 'R'\n",
       "19. 'S'\n",
       "20. 'T'\n",
       "\n",
       "\n"
      ],
      "text/plain": [
       " [1] \"A\" \"B\" \"C\" \"D\" \"E\" \"F\" \"G\" \"H\" \"I\" \"J\" \"K\" \"L\" \"M\" \"N\" \"O\" \"P\" \"Q\" \"R\" \"S\"\n",
       "[20] \"T\""
      ]
     },
     "metadata": {},
     "output_type": "display_data"
    }
   ],
   "source": [
    "letters_vector = c(LETTERS[1:20])"
   ]
  },
  {
   "cell_type": "code",
   "execution_count": 63,
   "metadata": {},
   "outputs": [],
   "source": [
    "odd_matrix = matrix(data=seq(from=2, to=100, by=2), nrow=10, ncol=10, byrow=TRUE)"
   ]
  },
  {
   "cell_type": "code",
   "execution_count": 66,
   "metadata": {},
   "outputs": [],
   "source": [
    "ident_matrix = diag(3)"
   ]
  },
  {
   "cell_type": "code",
   "execution_count": 67,
   "metadata": {},
   "outputs": [],
   "source": [
    "milista = list(E1=letters_vector, E2=odd_matrix, E3=ident_matrix)"
   ]
  },
  {
   "cell_type": "code",
   "execution_count": 3,
   "metadata": {},
   "outputs": [
    {
     "data": {
      "text/html": [
       "<table>\n",
       "<caption>A data.frame: 3 × 3</caption>\n",
       "<thead>\n",
       "\t<tr><th scope=col>edad</th><th scope=col>gusto_musical</th><th scope=col>esta_casado</th></tr>\n",
       "\t<tr><th scope=col>&lt;dbl&gt;</th><th scope=col>&lt;chr&gt;</th><th scope=col>&lt;chr&gt;</th></tr>\n",
       "</thead>\n",
       "<tbody>\n",
       "\t<tr><td>20</td><td>Rock   </td><td>si</td></tr>\n",
       "\t<tr><td>25</td><td>Jazz   </td><td>no</td></tr>\n",
       "\t<tr><td>30</td><td>Country</td><td>si</td></tr>\n",
       "</tbody>\n",
       "</table>\n"
      ],
      "text/latex": [
       "A data.frame: 3 × 3\n",
       "\\begin{tabular}{lll}\n",
       " edad & gusto\\_musical & esta\\_casado\\\\\n",
       " <dbl> & <chr> & <chr>\\\\\n",
       "\\hline\n",
       "\t 20 & Rock    & si\\\\\n",
       "\t 25 & Jazz    & no\\\\\n",
       "\t 30 & Country & si\\\\\n",
       "\\end{tabular}\n"
      ],
      "text/markdown": [
       "\n",
       "A data.frame: 3 × 3\n",
       "\n",
       "| edad &lt;dbl&gt; | gusto_musical &lt;chr&gt; | esta_casado &lt;chr&gt; |\n",
       "|---|---|---|\n",
       "| 20 | Rock    | si |\n",
       "| 25 | Jazz    | no |\n",
       "| 30 | Country | si |\n",
       "\n"
      ],
      "text/plain": [
       "  edad gusto_musical esta_casado\n",
       "1 20   Rock          si         \n",
       "2 25   Jazz          no         \n",
       "3 30   Country       si         "
      ]
     },
     "metadata": {},
     "output_type": "display_data"
    }
   ],
   "source": [
    "df = data.frame(edad=c(20,25,30), gusto_musical=c('Rock', 'Jazz', 'Country'), esta_casado=c('si','no', 'si'))\n",
    "df"
   ]
  },
  {
   "cell_type": "code",
   "execution_count": 5,
   "metadata": {},
   "outputs": [
    {
     "data": {
      "text/html": [
       "<table>\n",
       "<caption>A data.frame: 5 × 3</caption>\n",
       "<thead>\n",
       "\t<tr><th scope=col>edad</th><th scope=col>deporte</th><th scope=col>comic.fav</th></tr>\n",
       "\t<tr><th scope=col>&lt;dbl&gt;</th><th scope=col>&lt;lgl&gt;</th><th scope=col>&lt;chr&gt;</th></tr>\n",
       "</thead>\n",
       "<tbody>\n",
       "\t<tr><td>15</td><td> TRUE</td><td>NA      </td></tr>\n",
       "\t<tr><td>19</td><td> TRUE</td><td>Superman</td></tr>\n",
       "\t<tr><td>13</td><td>   NA</td><td>Batman  </td></tr>\n",
       "\t<tr><td>NA</td><td>FALSE</td><td>NA      </td></tr>\n",
       "\t<tr><td>20</td><td> TRUE</td><td>Batman  </td></tr>\n",
       "</tbody>\n",
       "</table>\n"
      ],
      "text/latex": [
       "A data.frame: 5 × 3\n",
       "\\begin{tabular}{lll}\n",
       " edad & deporte & comic.fav\\\\\n",
       " <dbl> & <lgl> & <chr>\\\\\n",
       "\\hline\n",
       "\t 15 &  TRUE & NA      \\\\\n",
       "\t 19 &  TRUE & Superman\\\\\n",
       "\t 13 &    NA & Batman  \\\\\n",
       "\t NA & FALSE & NA      \\\\\n",
       "\t 20 &  TRUE & Batman  \\\\\n",
       "\\end{tabular}\n"
      ],
      "text/markdown": [
       "\n",
       "A data.frame: 5 × 3\n",
       "\n",
       "| edad &lt;dbl&gt; | deporte &lt;lgl&gt; | comic.fav &lt;chr&gt; |\n",
       "|---|---|---|\n",
       "| 15 |  TRUE | NA       |\n",
       "| 19 |  TRUE | Superman |\n",
       "| 13 |    NA | Batman   |\n",
       "| NA | FALSE | NA       |\n",
       "| 20 |  TRUE | Batman   |\n",
       "\n"
      ],
      "text/plain": [
       "  edad deporte comic.fav\n",
       "1 15    TRUE   NA       \n",
       "2 19    TRUE   Superman \n",
       "3 13      NA   Batman   \n",
       "4 NA   FALSE   NA       \n",
       "5 20    TRUE   Batman   "
      ]
     },
     "metadata": {},
     "output_type": "display_data"
    }
   ],
   "source": [
    "edad <- c(15, 19, 13, NA, 20)\n",
    "deporte <- c(TRUE, TRUE, NA, FALSE, TRUE)\n",
    "comic.fav <- c(NA, 'Superman', 'Batman', NA, 'Batman')\n",
    "data.frame(edad, deporte, comic.fav)"
   ]
  },
  {
   "cell_type": "code",
   "execution_count": null,
   "metadata": {},
   "outputs": [],
   "source": []
  }
 ],
 "metadata": {
  "kernelspec": {
   "display_name": "R",
   "language": "R",
   "name": "ir"
  },
  "language_info": {
   "codemirror_mode": "r",
   "file_extension": ".r",
   "mimetype": "text/x-r-source",
   "name": "R",
   "pygments_lexer": "r",
   "version": "4.0.0"
  }
 },
 "nbformat": 4,
 "nbformat_minor": 4
}
